{
  "nbformat": 4,
  "nbformat_minor": 0,
  "metadata": {
    "colab": {
      "provenance": [],
      "authorship_tag": "ABX9TyOBMpDMlNil/SUVDhXArFzx",
      "include_colab_link": true
    },
    "kernelspec": {
      "name": "python3",
      "display_name": "Python 3"
    },
    "language_info": {
      "name": "python"
    }
  },
  "cells": [
    {
      "cell_type": "markdown",
      "metadata": {
        "id": "view-in-github",
        "colab_type": "text"
      },
      "source": [
        "<a href=\"https://colab.research.google.com/github/RADHIKA508/DNT-TASKS/blob/main/DNT_TASK2.ipynb\" target=\"_parent\"><img src=\"https://colab.research.google.com/assets/colab-badge.svg\" alt=\"Open In Colab\"/></a>"
      ]
    },
    {
      "cell_type": "code",
      "execution_count": null,
      "metadata": {
        "colab": {
          "base_uri": "https://localhost:8080/"
        },
        "id": "Ntscd-G12GwR",
        "outputId": "97315a2e-f577-47ee-f36d-9dbd0149ff6f"
      },
      "outputs": [
        {
          "output_type": "stream",
          "name": "stdout",
          "text": [
            "Mounted at /content/drive\n"
          ]
        }
      ],
      "source": [
        "import cv2\n",
        "from google.colab import drive\n",
        "\n",
        "# Mount Google Drive\n",
        "drive.mount('/content/drive')\n",
        "\n",
        "# Define input and output video paths\n",
        "input_path = '/content/drive/MyDrive/big_buck_bunny_720p_1mb.mp4'\n",
        "output_path = '/content/drive/MyDrive/output_video.mp4'\n",
        "\n",
        "# Open input video\n",
        "input_video = cv2.VideoCapture(input_path)\n",
        "\n",
        "# Get input video properties\n",
        "frame_count = int(input_video.get(cv2.CAP_PROP_FRAME_COUNT))\n",
        "fps = int(input_video.get(cv2.CAP_PROP_FPS))\n",
        "frame_width = int(input_video.get(cv2.CAP_PROP_FRAME_WIDTH))\n",
        "frame_height = int(input_video.get(cv2.CAP_PROP_FRAME_HEIGHT))\n",
        "\n",
        "# Create output video writer\n",
        "fourcc = cv2.VideoWriter_fourcc(*'mp4v')\n",
        "output_video = cv2.VideoWriter(output_path, fourcc, fps, (frame_width, frame_height))\n",
        "\n",
        "# Process every 4th frame and write to output video\n",
        "for i in range(0, frame_count, 4):\n",
        "    # Read next frame\n",
        "    input_video.set(cv2.CAP_PROP_POS_FRAMES, i)\n",
        "    ret, frame = input_video.read()\n",
        "    if not ret:\n",
        "        break\n",
        "    \n",
        "    # Write frame to output video\n",
        "    output_video.write(frame)\n",
        "\n",
        "# Release input and output videos\n",
        "input_video.release()\n",
        "output_video.release()\n"
      ]
    }
  ]
}